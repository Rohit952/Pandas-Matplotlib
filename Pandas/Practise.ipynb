{
 "cells": [
  {
   "cell_type": "code",
   "execution_count": 3,
   "metadata": {},
   "outputs": [
    {
     "name": "stdout",
     "output_type": "stream",
     "text": [
      "[1, 2, 3, 4, 5, 6, 7, 8, 9, 10, 11, 12, 13, 14, 15, 16, 17, 18, 19, 20]\n",
      "[2, 3, 4, 5, 6, 7, 8, 9, 10, 11, 12, 13, 14, 15, 16, 17, 18, 19, 20]\n",
      "[1]\n",
      "[20, 19, 18, 17, 16, 15, 14, 13, 12, 11, 10, 9, 8, 7, 6, 5, 4, 3, 2, 1]\n",
      "[20, 18, 16, 14, 12, 10, 8, 6, 4, 2]\n",
      "[20, 16, 12, 8, 4]\n",
      "[]\n",
      "[20, 19, 18, 17, 16, 15, 14]\n",
      "[2, 3, 4, 5, 6, 7, 8]\n",
      "[19, 18, 17, 16, 15, 14, 13, 12]\n"
     ]
    }
   ],
   "source": [
    "a = list(range(1,21))\n",
    "\n",
    "print(a)\n",
    "print(a[1:])\n",
    "print(a[:1])\n",
    "print(a[::-1])\n",
    "print(a[::-2])\n",
    "print(a[::-4])\n",
    "print(a[2:-10:-1]) # doubt\n",
    "print(a[-1:-8:-1])\n",
    "print(a[1:8:1])\n",
    "print(a[-2:10:-1])"
   ]
  }
 ],
 "metadata": {
  "kernelspec": {
   "display_name": "Python 3",
   "language": "python",
   "name": "python3"
  },
  "language_info": {
   "codemirror_mode": {
    "name": "ipython",
    "version": 3
   },
   "file_extension": ".py",
   "mimetype": "text/x-python",
   "name": "python",
   "nbconvert_exporter": "python",
   "pygments_lexer": "ipython3",
   "version": "3.8.1"
  }
 },
 "nbformat": 4,
 "nbformat_minor": 4
}
